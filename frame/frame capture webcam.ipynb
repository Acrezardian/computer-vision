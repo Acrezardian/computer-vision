import cv2

# Inisialisasi kamera
cap = cv2.VideoCapture(0)  # Angka 0 mengacu pada kamera utama laptop

# Pastikan kamera terbuka
if not cap.isOpened():
    print("Gagal membuka kamera.")
else:
    is_capturing = False

    while True:
        # Baca frame dari kamera
        ret, frame = cap.read()

        # Periksa apakah bacaan frame berhasil
        if not ret:
            print("Gagal membaca frame.")
            break

        # Resize frame jika diperlukan
        frame = cv2.resize(frame, (640, 480))

        # Tampilkan frame
        cv2.imshow("Webcam", frame)

        # Menyimpan gambar saat tombol spasi ditekan
        key = cv2.waitKey(1)
        if key & 0xFF == ord(' '):
            is_capturing = True
        elif key & 0xFF == ord('q'):
            break

        if is_capturing:
            # Simpan frame sebagai gambar
            cv2.imwrite("hasil foto.jpg", frame)
            print("Gambar berhasil disimpan.")
            is_capturing = False

    # Tutup kamera dan qjendela tampilan
    cap.release()
    cv2.destroyAllWindows()
